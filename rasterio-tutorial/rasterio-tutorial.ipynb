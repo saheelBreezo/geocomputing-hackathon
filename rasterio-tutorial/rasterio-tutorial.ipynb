{
 "cells": [
  {
   "cell_type": "markdown",
   "metadata": {},
   "source": [
    "# A Comprehensive Tutorial on Rasterio"
   ]
  },
  {
   "cell_type": "markdown",
   "metadata": {},
   "source": [
    "Rasterio is a Python library for working with geospatial raster data, built atop GDAL, but with a Pythonic API that integrates seamlessly with NumPy. This tutorial introduces key raster operations using Rasterio, assumes familiarity with Python, NumPy, GDAL, and Matplotlib, and includes comparisons with GDAL and a bonus section showcasing some cool Rasterio capabilities."
   ]
  },
  {
   "cell_type": "markdown",
   "metadata": {},
   "source": [
    "## Table of Contents\n",
    "\n",
    "- [Getting Started with Rasterio](#1-getting-started-with-rasterio)\n",
    "- [Reading Raster Data](#2-reading-raster-data)\n",
    "- [Writing and Updating Rasters](#3-writing-and-updating-rasters)\n",
    "- [Masking and Cropping](#4-masking-and-cropping)\n",
    "- [Reprojecting Rasters](#5-reprojecting-rasters)\n",
    "- [Performing Zonal Statistics](#6-performing-zonal-statistics)\n",
    "- [Comparing GDAL with Rasterio](#7-comparing-gdal-with-rasterio) \n",
    "- [Bonus: Cool Tricks with Rasterio](#8-bonus-cool-tricks-with-rasterio)"
   ]
  },
  {
   "cell_type": "markdown",
   "metadata": {},
   "source": [
    "## 1. Getting Started with Rasterio"
   ]
  },
  {
   "cell_type": "markdown",
   "metadata": {},
   "source": [
    "### Installation"
   ]
  },
  {
   "cell_type": "code",
   "execution_count": null,
   "metadata": {},
   "outputs": [],
   "source": [
    "!pip install rasterio # for windows !(Get-Command python).Path -m pip install rasterio"
   ]
  },
  {
   "cell_type": "markdown",
   "metadata": {},
   "source": [
    "### Importing Rasterio"
   ]
  },
  {
   "cell_type": "code",
   "execution_count": null,
   "metadata": {},
   "outputs": [],
   "source": [
    "import rasterio\n",
    "from rasterio.plot import show\n",
    "import numpy as np\n",
    "import matplotlib.pyplot as plt"
   ]
  },
  {
   "cell_type": "markdown",
   "metadata": {},
   "source": [
    "## 2. Reading Raster Data"
   ]
  },
  {
   "cell_type": "markdown",
   "metadata": {},
   "source": [
    "### Opening a Raster File"
   ]
  },
  {
   "cell_type": "code",
   "execution_count": null,
   "metadata": {},
   "outputs": [],
   "source": [
    "with rasterio.open('example.tif') as src:\n",
    "    print(src.profile)  # Metadata\n",
    "    data = src.read(1)  # Read the first band"
   ]
  },
  {
   "cell_type": "markdown",
   "metadata": {
    "vscode": {
     "languageId": "plaintext"
    }
   },
   "source": [
    "### Visualizing Raster Data"
   ]
  },
  {
   "cell_type": "code",
   "execution_count": null,
   "metadata": {},
   "outputs": [],
   "source": [
    "plt.imshow(data, cmap='viridis')\n",
    "plt.colorbar(label='Pixel Value')\n",
    "plt.title('Raster Band Visualization')\n",
    "plt.show()"
   ]
  },
  {
   "cell_type": "markdown",
   "metadata": {},
   "source": [
    "### Reading Raster as an Array"
   ]
  },
  {
   "cell_type": "code",
   "execution_count": null,
   "metadata": {},
   "outputs": [],
   "source": [
    "array = src.read(1)\n",
    "print(array.shape)"
   ]
  },
  {
   "cell_type": "markdown",
   "metadata": {},
   "source": [
    "## 3. Writing and Updating Rasters"
   ]
  },
  {
   "cell_type": "markdown",
   "metadata": {},
   "source": [
    "### Creating a New Raster"
   ]
  },
  {
   "cell_type": "code",
   "execution_count": null,
   "metadata": {},
   "outputs": [],
   "source": [
    "with rasterio.open(\n",
    "    'new_raster.tif',\n",
    "    'w',\n",
    "    driver='GTiff',\n",
    "    height=data.shape[0],\n",
    "    width=data.shape[1],\n",
    "    count=1,\n",
    "    dtype=data.dtype,\n",
    "    crs=src.crs,\n",
    "    transform=src.transform\n",
    ") as dst:\n",
    "    dst.write(data, 1)"
   ]
  },
  {
   "cell_type": "markdown",
   "metadata": {},
   "source": [
    "### Updating an Existing Raster"
   ]
  },
  {
   "cell_type": "code",
   "execution_count": null,
   "metadata": {},
   "outputs": [],
   "source": [
    "with rasterio.open('existing_raster.tif', 'r+') as dst:\n",
    "    dst.write(array * 2, 1)  # Example modification"
   ]
  },
  {
   "cell_type": "markdown",
   "metadata": {},
   "source": [
    "## 4. Masking and Cropping"
   ]
  },
  {
   "cell_type": "markdown",
   "metadata": {},
   "source": [
    "### Applying a Mask"
   ]
  },
  {
   "cell_type": "code",
   "execution_count": null,
   "metadata": {},
   "outputs": [],
   "source": [
    "from rasterio.mask import mask\n",
    "from shapely.geometry import box\n",
    "import geopandas as gpd\n",
    "\n",
    "# Define a bounding box\n",
    "bbox = box(minx, miny, maxx, maxy)\n",
    "geo = gpd.GeoDataFrame({'geometry': [bbox]}, crs=src.crs)\n",
    "\n",
    "# Apply mask\n",
    "with rasterio.open('example.tif') as src:\n",
    "    out_image, out_transform = mask(src, geo.geometry, crop=True)\n",
    "    show(out_image[0])\n"
   ]
  },
  {
   "cell_type": "markdown",
   "metadata": {},
   "source": [
    "### Cropping to a Region"
   ]
  },
  {
   "cell_type": "code",
   "execution_count": null,
   "metadata": {},
   "outputs": [],
   "source": [
    "with rasterio.open('example.tif') as src:\n",
    "    window = src.window(minx, miny, maxx, maxy)\n",
    "    cropped = src.read(1, window=window)\n",
    "    plt.imshow(cropped)"
   ]
  },
  {
   "cell_type": "markdown",
   "metadata": {},
   "source": [
    "## 5. Reprojecting Rasters"
   ]
  },
  {
   "cell_type": "markdown",
   "metadata": {},
   "source": [
    "### Reproject to Another CRS"
   ]
  },
  {
   "cell_type": "code",
   "execution_count": null,
   "metadata": {},
   "outputs": [],
   "source": [
    "from rasterio.warp import calculate_default_transform, reproject, Resampling\n",
    "\n",
    "dst_crs = 'EPSG:4326'  # Example target CRS\n",
    "with rasterio.open('example.tif') as src:\n",
    "    transform, width, height = calculate_default_transform(\n",
    "        src.crs, dst_crs, src.width, src.height, *src.bounds)\n",
    "    kwargs = src.meta.copy()\n",
    "    kwargs.update({'crs': dst_crs, 'transform': transform, 'width': width, 'height': height})\n",
    "\n",
    "    with rasterio.open('reprojected.tif', 'w', **kwargs) as dst:\n",
    "        reproject(\n",
    "            source=rasterio.band(src, 1),\n",
    "            destination=rasterio.band(dst, 1),\n",
    "            src_transform=src.transform,\n",
    "            src_crs=src.crs,\n",
    "            dst_transform=transform,\n",
    "            dst_crs=dst_crs,\n",
    "            resampling=Resampling.nearest)"
   ]
  },
  {
   "cell_type": "markdown",
   "metadata": {},
   "source": [
    "## 6. Performing Zonal Statistics"
   ]
  },
  {
   "cell_type": "markdown",
   "metadata": {},
   "source": [
    "### Calculate Mean Value per Zone"
   ]
  },
  {
   "cell_type": "code",
   "execution_count": null,
   "metadata": {},
   "outputs": [],
   "source": [
    "from rasterstats import zonal_stats\n",
    "import geopandas as gpd\n",
    "\n",
    "# Load zones as GeoDataFrame\n",
    "zones = gpd.read_file('zones.shp')\n",
    "\n",
    "# Perform zonal statistics\n",
    "stats = zonal_stats(zones, 'example.tif', stats=['mean', 'max', 'min'])\n",
    "print(stats)"
   ]
  },
  {
   "cell_type": "markdown",
   "metadata": {},
   "source": [
    "## 7. Comparing GDAL with Rasterio"
   ]
  },
  {
   "cell_type": "markdown",
   "metadata": {},
   "source": [
    "<!-- Feature\tGDAL\tRasterio\n",
    "Ease of Use\tC-like API, requires more boilerplate\tPythonic API, intuitive and readable\n",
    "Dependencies\tHeavily tied to C libraries\tBuilt on GDAL but adds Pythonic simplicity\n",
    "Performance\tOptimized for speed\tSlightly slower due to abstraction\n",
    "Community\tLong history, large user base\tGrowing, vibrant Python community\n",
    "Visualization\tNo direct tools\tBuilt-in plotting functions -->"
   ]
  },
  {
   "cell_type": "markdown",
   "metadata": {},
   "source": [
    "## 8. Bonus: Cool Tricks with Rasterio"
   ]
  },
  {
   "cell_type": "markdown",
   "metadata": {},
   "source": [
    "### Calculating NDVI"
   ]
  },
  {
   "cell_type": "code",
   "execution_count": null,
   "metadata": {},
   "outputs": [],
   "source": [
    "with rasterio.open('red_band.tif') as red, rasterio.open('nir_band.tif') as nir:\n",
    "    red_band = red.read(1).astype('float32')\n",
    "    nir_band = nir.read(1).astype('float32')\n",
    "    ndvi = (nir_band - red_band) / (nir_band + red_band)\n",
    "    \n",
    "    plt.imshow(ndvi, cmap='RdYlGn')\n",
    "    plt.colorbar(label='NDVI')\n",
    "    plt.title('Normalized Difference Vegetation Index')\n",
    "    plt.show()"
   ]
  },
  {
   "cell_type": "markdown",
   "metadata": {},
   "source": [
    "### Stacking Multiple Bands"
   ]
  },
  {
   "cell_type": "code",
   "execution_count": null,
   "metadata": {},
   "outputs": [],
   "source": [
    "with rasterio.open('example.tif') as src1, rasterio.open('example2.tif') as src2:\n",
    "    stack = np.stack([src1.read(1), src2.read(1)])\n",
    "    with rasterio.open(\n",
    "        'stacked.tif', 'w',\n",
    "        driver='GTiff',\n",
    "        height=stack.shape[1],\n",
    "        width=stack.shape[2],\n",
    "        count=stack.shape[0],\n",
    "        dtype=stack.dtype,\n",
    "        crs=src1.crs,\n",
    "        transform=src1.transform\n",
    "    ) as dst:\n",
    "        dst.write(stack)"
   ]
  },
  {
   "cell_type": "markdown",
   "metadata": {},
   "source": [
    "### Rasterizing a Vector"
   ]
  },
  {
   "cell_type": "code",
   "execution_count": null,
   "metadata": {},
   "outputs": [],
   "source": [
    "from rasterio.features import rasterize\n",
    "from shapely.geometry import mapping\n",
    "\n",
    "shapes = [mapping(geometry) for geometry in zones.geometry]\n",
    "raster = rasterize(shapes, out_shape=src.shape, transform=src.transform)\n",
    "plt.imshow(raster)"
   ]
  }
 ],
 "metadata": {
  "language_info": {
   "name": "python"
  }
 },
 "nbformat": 4,
 "nbformat_minor": 2
}
