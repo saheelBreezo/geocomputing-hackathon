{
 "cells": [
  {
   "cell_type": "markdown",
   "metadata": {
    "vscode": {
     "languageId": "plaintext"
    }
   },
   "source": [
    "# 1. Introduction to GeoPandas"
   ]
  },
  {
   "cell_type": "markdown",
   "metadata": {},
   "source": [
    "GeoPandas is an extension of pandas for working with geospatial vector data. It simplifies operations like reading, analyzing, and visualizing spatial data."
   ]
  },
  {
   "cell_type": "code",
   "execution_count": null,
   "metadata": {},
   "outputs": [],
   "source": [
    "# Install geopandas if you don't have it\n",
    "!pip install geopandas"
   ]
  },
  {
   "cell_type": "markdown",
   "metadata": {},
   "source": [
    "# 2. Working with GeoPandas\n",
    "## 2.1 Reading and Writing Vector Data\n",
    "\n",
    "GeoPandas supports reading/writing vector data formats like Shapefile, GeoJSON, etc."
   ]
  },
  {
   "cell_type": "code",
   "execution_count": null,
   "metadata": {},
   "outputs": [],
   "source": [
    "import geopandas as gpd\n",
    "\n",
    "# Read a shapefile\n",
    "gdf = gpd.read_file(\"path_to_your_file.shp\")\n",
    "\n",
    "# Inspect the first few rows\n",
    "print(gdf.head())\n",
    "\n",
    "# Save to GeoJSON\n",
    "gdf.to_file(\"output.geojson\", driver=\"GeoJSON\")"
   ]
  },
  {
   "cell_type": "markdown",
   "metadata": {},
   "source": [
    "## 2.2 Basic Geometry Operations\n",
    "\n",
    "GeoPandas provides tools for geometric operations like buffering, intersections, and spatial joins."
   ]
  },
  {
   "cell_type": "code",
   "execution_count": null,
   "metadata": {},
   "outputs": [],
   "source": [
    "# Create a buffer around geometries\n",
    "gdf['buffered'] = gdf.geometry.buffer(100)\n",
    "\n",
    "# Find the centroid of each geometry\n",
    "gdf['centroid'] = gdf.geometry.centroid\n",
    "\n",
    "# Spatial intersection with another GeoDataFrame\n",
    "another_gdf = gpd.read_file(\"another_file.shp\")\n",
    "intersection = gpd.overlay(gdf, another_gdf, how=\"intersection\")\n",
    "\n",
    "print(intersection)"
   ]
  },
  {
   "cell_type": "markdown",
   "metadata": {},
   "source": [
    "## 2.3 Spatial Joins\n",
    "\n",
    "Spatial joins combine attributes of overlapping geometries."
   ]
  },
  {
   "cell_type": "code",
   "execution_count": null,
   "metadata": {},
   "outputs": [],
   "source": [
    "# Perform a spatial join\n",
    "joined = gpd.sjoin(gdf, another_gdf, how=\"inner\", op=\"intersects\")\n",
    "\n",
    "# Inspect the joined data\n",
    "print(joined)"
   ]
  },
  {
   "cell_type": "markdown",
   "metadata": {},
   "source": [
    "## 2.4 Plotting Geospatial Data\n",
    "\n",
    "GeoPandas integrates seamlessly with Matplotlib for plotting."
   ]
  },
  {
   "cell_type": "code",
   "execution_count": null,
   "metadata": {},
   "outputs": [],
   "source": [
    "import matplotlib.pyplot as plt\n",
    "\n",
    "# Plot GeoDataFrame\n",
    "gdf.plot(color='blue', edgecolor='black')\n",
    "plt.title(\"Geospatial Data Visualization\")\n",
    "plt.show()"
   ]
  },
  {
   "cell_type": "markdown",
   "metadata": {},
   "source": [
    "## 3. GeoPandas vs. OGR Vector Library\n",
    "\n",
    "Feature\tGeoPandas\tOGR (osgeo.ogr)\n",
    "Ease of Use\tPythonic, Pandas-like interface\tRequires more setup and verbose syntax\n",
    "File Formats\tSupports common formats\tWider format support (including non-spatial formats)\n",
    "Geometry Operations\tBuilt-in, easy-to-use operations\tRequires additional libraries (e.g., Shapely)\n",
    "Performance\tSlower for large datasets\tBetter optimized for performance\n",
    "Visualization\tDirect integration with Matplotlib\tNo built-in visualization tools"
   ]
  },
  {
   "cell_type": "markdown",
   "metadata": {},
   "source": [
    "## 4. Cool Things You Can Do with GeoPandas\n",
    "\n",
    "### 4.1 Dissolving Geometries\n",
    "\n",
    "Aggregate geometries based on a shared attribute."
   ]
  },
  {
   "cell_type": "code",
   "execution_count": null,
   "metadata": {},
   "outputs": [],
   "source": [
    "# Dissolve by an attribute\n",
    "dissolved = gdf.dissolve(by=\"attribute_column\")\n",
    "print(dissolved)\n"
   ]
  },
  {
   "cell_type": "markdown",
   "metadata": {},
   "source": [
    "### 4.2 Calculate Area, Length, and Bounds\n",
    "\n",
    "Perform geometric calculations."
   ]
  },
  {
   "cell_type": "code",
   "execution_count": null,
   "metadata": {},
   "outputs": [],
   "source": [
    "# Add area and bounds\n",
    "gdf['area'] = gdf.geometry.area\n",
    "gdf['bounds'] = gdf.geometry.bounds\n",
    "print(gdf[['area', 'bounds']])"
   ]
  },
  {
   "cell_type": "markdown",
   "metadata": {},
   "source": [
    "### 4.3 Create Interactive Maps\n",
    "\n",
    "Combine GeoPandas with folium for web-friendly maps."
   ]
  },
  {
   "cell_type": "code",
   "execution_count": null,
   "metadata": {},
   "outputs": [],
   "source": [
    "import folium\n",
    "\n",
    "# Convert GeoDataFrame to GeoJSON\n",
    "geojson = gdf.to_json()\n",
    "\n",
    "# Create a map\n",
    "m = folium.Map(location=[latitude, longitude], zoom_start=12)\n",
    "folium.GeoJson(geojson).add_to(m)\n",
    "m.save(\"map.html\")"
   ]
  }
 ],
 "metadata": {
  "language_info": {
   "name": "python"
  }
 },
 "nbformat": 4,
 "nbformat_minor": 2
}
